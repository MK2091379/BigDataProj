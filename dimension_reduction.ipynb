{
 "cells": [
  {
   "metadata": {
    "ExecuteTime": {
     "end_time": "2025-07-12T22:02:04.381687Z",
     "start_time": "2025-07-12T22:02:03.428808Z"
    }
   },
   "cell_type": "code",
   "source": [
    "from pyspark.sql import SparkSession, functions as F, Row\n",
    "from pyspark.ml.feature import VectorAssembler, MinMaxScaler\n",
    "from pyspark.ml.functions import vector_to_array\n",
    "from sklearn.neighbors import LocalOutlierFactor\n",
    "from sklearn.metrics import roc_auc_score\n",
    "import math\n",
    "import numpy as np"
   ],
   "id": "3e764583eef5453e",
   "outputs": [],
   "execution_count": 1
  },
  {
   "metadata": {
    "ExecuteTime": {
     "end_time": "2025-07-12T19:14:46.596057Z",
     "start_time": "2025-07-12T19:14:27.052045Z"
    }
   },
   "cell_type": "code",
   "source": "spark = SparkSession.builder.appName(\"Dimension Reduction\").master(\"local[*]\").getOrCreate()\n",
   "id": "4933f9a1827ee965",
   "outputs": [
    {
     "name": "stderr",
     "output_type": "stream",
     "text": [
      "WARNING: Using incubator modules: jdk.incubator.vector\n",
      "Using Spark's default log4j profile: org/apache/spark/log4j2-defaults.properties\n",
      "25/07/12 22:44:40 WARN Utils: Your hostname, Soroush, resolves to a loopback address: 127.0.1.1; using 192.168.100.10 instead (on interface wlp5s0)\n",
      "25/07/12 22:44:40 WARN Utils: Set SPARK_LOCAL_IP if you need to bind to another address\n",
      "Using Spark's default log4j profile: org/apache/spark/log4j2-defaults.properties\n",
      "Setting default log level to \"WARN\".\n",
      "To adjust logging level use sc.setLogLevel(newLevel). For SparkR, use setLogLevel(newLevel).\n",
      "25/07/12 22:44:41 WARN NativeCodeLoader: Unable to load native-hadoop library for your platform... using builtin-java classes where applicable\n"
     ]
    }
   ],
   "execution_count": 2
  },
  {
   "metadata": {},
   "cell_type": "markdown",
   "source": "#### Import Musk version 2 dataset",
   "id": "c222974093049c8"
  },
  {
   "metadata": {
    "ExecuteTime": {
     "end_time": "2025-07-12T19:15:37.798735Z",
     "start_time": "2025-07-12T19:15:34.362025Z"
    }
   },
   "cell_type": "code",
   "source": [
    "df = (\n",
    "    spark\n",
    "      .read\n",
    "      .option(\"header\", True)\n",
    "      .option(\"inferSchema\", True)\n",
    "      .csv(\"glass_identification.csv\")\n",
    "      .withColumn(\"id\", F.monotonically_increasing_id())\n",
    "      .withColumnRenamed(\"target\", \"class\")\n",
    "      .cache()\n",
    ")\n",
    "\n",
    "# df = df.dropDuplicates()\n",
    "\n",
    "label_col    = \"class\"\n",
    "feature_cols = [c for c in df.columns if c not in (\"id\", label_col)]\n",
    "\n",
    "labels = (\n",
    "    df\n",
    "      .select(\"id\", (1 - F.col(\"class\")).alias(\"label\").cast(\"int\"))\n",
    "      .cache()\n",
    ")\n"
   ],
   "id": "1fec2d6869cd90e5",
   "outputs": [],
   "execution_count": 3
  },
  {
   "metadata": {
    "ExecuteTime": {
     "end_time": "2025-07-12T19:15:39.920148Z",
     "start_time": "2025-07-12T19:15:38.883382Z"
    }
   },
   "cell_type": "code",
   "source": [
    "total = df.count()\n",
    "distinct = df.dropDuplicates(feature_cols).count()\n",
    "duplicates = total - distinct\n",
    "print(f\"Found {duplicates} duplicate rows out of {total}\")"
   ],
   "id": "2a8f298c35b26013",
   "outputs": [
    {
     "name": "stdout",
     "output_type": "stream",
     "text": [
      "Found 1 duplicate rows out of 214\n"
     ]
    }
   ],
   "execution_count": 4
  },
  {
   "metadata": {},
   "cell_type": "markdown",
   "source": [
    " #### Parameters\n",
    "##### K: LOF Neighbors\n",
    "##### P: Bins Per Feature\n",
    "##### M: Subspace Size"
   ],
   "id": "61b03ed51dd5f99b"
  },
  {
   "metadata": {
    "ExecuteTime": {
     "end_time": "2025-07-12T19:15:43.575405Z",
     "start_time": "2025-07-12T19:15:43.572870Z"
    }
   },
   "cell_type": "code",
   "source": [
    "params = {\n",
    "    'p': 2,\n",
    "    'm': 3,\n",
    "    'k': 74\n",
    "}\n"
   ],
   "id": "260b0d7270872752",
   "outputs": [],
   "execution_count": 5
  },
  {
   "metadata": {},
   "cell_type": "markdown",
   "source": "#### Scale With Max_Min Normalization method",
   "id": "23748e5082f48ed"
  },
  {
   "metadata": {
    "ExecuteTime": {
     "end_time": "2025-07-12T19:15:45.689569Z",
     "start_time": "2025-07-12T19:15:45.096060Z"
    }
   },
   "cell_type": "code",
   "source": [
    "assembler = VectorAssembler(inputCols=feature_cols, outputCol=\"features\", handleInvalid=\"skip\")\n",
    "assembled_df = assembler.transform(df)\n",
    "\n",
    "scaler = MinMaxScaler(inputCol=\"features\", outputCol=\"scaledFeatures\")\n",
    "df_scaled = scaler.fit(assembled_df).transform(assembled_df).select(\"id\", \"scaledFeatures\")\n"
   ],
   "id": "9879cdf7d463a251",
   "outputs": [],
   "execution_count": 6
  },
  {
   "metadata": {},
   "cell_type": "markdown",
   "source": "### Density Based Representation",
   "id": "45868de071e2d9c7"
  },
  {
   "metadata": {
    "ExecuteTime": {
     "end_time": "2025-07-12T19:15:49.277467Z",
     "start_time": "2025-07-12T19:15:47.306663Z"
    }
   },
   "cell_type": "code",
   "source": [
    "num_feats = len(feature_cols)\n",
    "p = params['p']\n",
    "cube_counts = (\n",
    "    df_scaled.select(\"scaledFeatures\").rdd\n",
    "    .map(lambda row: tuple(int(min(x * p, p - 1)) for x in row.scaledFeatures))\n",
    "    .map(lambda bins: (\"_\".join(map(str, bins)), 1))\n",
    "    .reduceByKey(lambda a, b: a + b)\n",
    ")\n",
    "\n",
    "density_df = spark.createDataFrame(\n",
    "    cube_counts.map(lambda kv: Row(cube_id=kv[0], density=kv[1]))\n",
    ")\n",
    "\n",
    "for i in range(num_feats):\n",
    "    density_df = density_df.withColumn(f\"g{i}\", F.split(\"cube_id\", \"_\")[i].cast(\"int\"))\n"
   ],
   "id": "502212e53784215e",
   "outputs": [
    {
     "name": "stderr",
     "output_type": "stream",
     "text": [
      "                                                                                \r"
     ]
    }
   ],
   "execution_count": 7
  },
  {
   "metadata": {},
   "cell_type": "markdown",
   "source": "#### mRMRD-Based Relevant Subspace Selection",
   "id": "f26e159fe869b7eb"
  },
  {
   "metadata": {
    "ExecuteTime": {
     "end_time": "2025-07-12T19:17:00.647329Z",
     "start_time": "2025-07-12T19:16:59.495589Z"
    }
   },
   "cell_type": "code",
   "source": [
    "# RDD format\n",
    "col_names = [f\"g{i}\" for i in range(num_feats)]\n",
    "mr_rdd    = density_df.select(col_names + [\"density\"]).rdd.cache()\n",
    "N_total   = mr_rdd.count()\n",
    "\n",
    "# calculate similarity\n",
    "fd_counts = (\n",
    "    mr_rdd.flatMap(\n",
    "        lambda row: [((j, getattr(row, col_names[j]), row.density), 1) for j in range(num_feats)]\n",
    "    ).reduceByKey(lambda a, b: a + b)\n",
    ")\n",
    "\n",
    "feat_marg = fd_counts.map(lambda kv: ((kv[0][0], kv[0][1]), kv[1])).reduceByKey(lambda a, b: a + b)\n",
    "\n",
    "dens_marg = fd_counts.map(lambda kv: (kv[0][2], kv[1])).reduceByKey(lambda a, b: a + b)\n",
    "\n",
    "fd_list      = fd_counts.collect()\n",
    "feat_dict    = dict(feat_marg.collect())\n",
    "dens_dict    = dict(dens_marg.collect())\n",
    "\n",
    "mi_relevance = {}\n",
    "for (j, gval, dc), cnt in fd_list:\n",
    "    p_joint = cnt / N_total\n",
    "    p_g     = feat_dict[(j, gval)] / N_total\n",
    "    p_d     = dens_dict[dc] / N_total\n",
    "    mi_relevance[j] = mi_relevance.get(j, 0.0) + p_joint * math.log2(p_joint / (p_g * p_d))\n"
   ],
   "id": "7900ba1abfd3cda7",
   "outputs": [],
   "execution_count": 8
  },
  {
   "metadata": {},
   "cell_type": "markdown",
   "source": "#### Compute I(gi,gj) And Redundancy",
   "id": "ffbc710b43d0fd91"
  },
  {
   "metadata": {
    "ExecuteTime": {
     "end_time": "2025-07-12T19:17:05.566372Z",
     "start_time": "2025-07-12T19:17:05.322907Z"
    }
   },
   "cell_type": "code",
   "source": [
    "pair_counts = (\n",
    "    mr_rdd.flatMap(\n",
    "        lambda row: [(((j, l, getattr(row, col_names[j]), getattr(row, col_names[l]))), 1)\n",
    "                      for j in range(num_feats) for l in range(j + 1, num_feats)]\n",
    "    ).reduceByKey(lambda a, b: a + b)\n",
    ")\n",
    "\n",
    "# aggregate pair dictionaries ( (j , l) , ( (v1,v2),cnt))\n",
    "from collections import defaultdict\n",
    "pair_dict = defaultdict(list)\n",
    "for ((j, l, vj, vl), c) in pair_counts.collect():\n",
    "    pair_dict[(j, l)].append(((vj, vl), c))\n",
    "\n",
    "# compute mutual information\n",
    "mi_pair = {}\n",
    "for (j, l), items in pair_dict.items():\n",
    "    score = 0.0\n",
    "    for (vj, vl), cnt in items:\n",
    "        p_joint = cnt / N_total\n",
    "        p_j     = feat_dict[(j, vj)] / N_total\n",
    "        p_l     = feat_dict[(l, vl)] / N_total\n",
    "        score  += p_joint * math.log2(p_joint / (p_j * p_l))\n",
    "    mi_pair[(j, l)] = score\n",
    "    mi_pair[(l, j)] = score"
   ],
   "id": "1b3176127ccff12",
   "outputs": [],
   "execution_count": 9
  },
  {
   "metadata": {},
   "cell_type": "markdown",
   "source": "#### Greedy mRMD Selection",
   "id": "465560a1f3d1f9fe"
  },
  {
   "metadata": {
    "ExecuteTime": {
     "end_time": "2025-07-12T19:17:07.009415Z",
     "start_time": "2025-07-12T19:17:07.002976Z"
    }
   },
   "cell_type": "code",
   "source": [
    "subspace_size = params['m']\n",
    "selected, remaining = [], list(range(num_feats))\n",
    "\n",
    "while remaining and len(selected) < subspace_size:\n",
    "    best, best_score = None, float(\"-inf\")\n",
    "    for cand in remaining:\n",
    "        redund = 0.0\n",
    "        if selected:\n",
    "            redund = sum(mi_pair.get((cand, s), 0.0) for s in selected) / len(selected)\n",
    "        score = mi_relevance[cand] - redund\n",
    "        if score > best_score:\n",
    "            best, best_score = cand, score\n",
    "    selected.append(best)\n",
    "    remaining.remove(best)\n",
    "\n",
    "# see the selected features\n",
    "print(\"\\nSelected features (MRMD order):\", [f\"g{i}\" for i in selected])"
   ],
   "id": "82600542849d40d9",
   "outputs": [
    {
     "name": "stdout",
     "output_type": "stream",
     "text": [
      "\n",
      "Selected features (MRMD order): ['g8', 'g2', 'g3']\n"
     ]
    }
   ],
   "execution_count": 10
  },
  {
   "metadata": {},
   "cell_type": "markdown",
   "source": "#### Stage 5: Data Mapping",
   "id": "70fdab05d2af9fb6"
  },
  {
   "metadata": {
    "ExecuteTime": {
     "end_time": "2025-07-12T19:17:09.659664Z",
     "start_time": "2025-07-12T19:17:09.460804Z"
    }
   },
   "cell_type": "code",
   "source": [
    "indexes = [int(col) for col in selected]  # from mRMRD\n",
    "df_subspace = (\n",
    "    df_scaled.withColumn(\"feat_arr\", vector_to_array(\"scaledFeatures\"))\n",
    "    .select(\"id\", *[F.col(\"feat_arr\")[i].alias(f\"f{j}\") for j,i in enumerate(indexes)])\n",
    "    .cache()\n",
    ")\n",
    "\n",
    "df_subspace.show(5, truncate=False)\n"
   ],
   "id": "88d1cc827c79c322",
   "outputs": [
    {
     "name": "stdout",
     "output_type": "stream",
     "text": [
      "+---+---+------------------+-------------------+\n",
      "|id |f0 |f1                |f2                 |\n",
      "+---+---+------------------+-------------------+\n",
      "|0  |0.0|1.0               |0.2523364485981308 |\n",
      "|1  |0.0|0.8017817371937639|0.3333333333333333 |\n",
      "|2  |0.0|0.7906458797327394|0.3894080996884735 |\n",
      "|3  |0.0|0.821826280623608 |0.3115264797507788 |\n",
      "|4  |0.0|0.8062360801781737|0.29595015576323985|\n",
      "+---+---+------------------+-------------------+\n",
      "only showing top 5 rows\n"
     ]
    }
   ],
   "execution_count": 11
  },
  {
   "metadata": {},
   "cell_type": "markdown",
   "source": [
    "#### Stage 6: Compute LOF Scores\n",
    "#### Remove Duplicates From Selected Subspace By MrMRD"
   ],
   "id": "143aa64fc4244767"
  },
  {
   "metadata": {
    "ExecuteTime": {
     "end_time": "2025-07-12T19:17:12.622868Z",
     "start_time": "2025-07-12T19:17:11.437182Z"
    }
   },
   "cell_type": "code",
   "source": [
    "total = df_subspace.count()\n",
    "# list of subspace feature\n",
    "subspace_cols = [f\"f{i}\" for i in range(len(indexes))]\n",
    "# distinct rows by feature‐only\n",
    "df_subspace = df_subspace.dropDuplicates(subspace_cols).cache()\n",
    "\n",
    "df_subspace.show(5, truncate=False)\n"
   ],
   "id": "5c4b26ce00458bd1",
   "outputs": [
    {
     "name": "stdout",
     "output_type": "stream",
     "text": [
      "Found 5 exact‐duplicate rows out of 214 in the subspace.\n",
      "After deduplication: 209 rows (should be 209).\n",
      "+---+---+------------------+-------------------+\n",
      "|id |f0 |f1                |f2                 |\n",
      "+---+---+------------------+-------------------+\n",
      "|23 |0.0|0.7951002227171491|0.3302180685358255 |\n",
      "|28 |0.0|0.7839643652561247|0.3551401869158878 |\n",
      "|104|0.0|0.6458797327394209|0.27414330218068533|\n",
      "|17 |0.0|0.8574610244988864|0.1869158878504673 |\n",
      "|103|0.0|0.7015590200445434|0.11526479750778817|\n",
      "+---+---+------------------+-------------------+\n",
      "only showing top 5 rows\n"
     ]
    }
   ],
   "execution_count": 12
  },
  {
   "metadata": {},
   "cell_type": "markdown",
   "source": "#### Compute LOF With Sklearn Built-In Function",
   "id": "e45c57fabb89c4ac"
  },
  {
   "metadata": {
    "ExecuteTime": {
     "end_time": "2025-07-12T19:17:14.002143Z",
     "start_time": "2025-07-12T19:17:13.728298Z"
    }
   },
   "cell_type": "code",
   "source": [
    "\n",
    "pdf = df_subspace.toPandas().set_index(\"id\")\n",
    "X   = pdf.values\n",
    "\n",
    "# fit LOF in the projected space\n",
    "lof = LocalOutlierFactor(n_neighbors=params['k'], metric=\"euclidean\")\n",
    "lof.fit_predict(X)\n",
    "\n",
    "# invert sign so that higher => more anomalous\n",
    "pdf[\"lof_score\"] = -lof.negative_outlier_factor_\n"
   ],
   "id": "ab675b9e33094fc0",
   "outputs": [],
   "execution_count": 13
  },
  {
   "metadata": {},
   "cell_type": "markdown",
   "source": "#### Merge LOF Scores with Scaled Features and Display Top Outliers",
   "id": "85aa66d63467ed52"
  },
  {
   "metadata": {
    "ExecuteTime": {
     "end_time": "2025-07-12T19:17:16.272414Z",
     "start_time": "2025-07-12T19:17:15.647297Z"
    }
   },
   "cell_type": "code",
   "source": [
    "lof_df = spark.createDataFrame(\n",
    "    pdf.reset_index()[[\"id\", \"lof_score\"]]\n",
    ")\n",
    "\n",
    "df_final = (\n",
    "    df_scaled\n",
    "      .join(lof_df, on=\"id\", how=\"inner\")\n",
    "      .orderBy(F.desc(\"lof_score\"))\n",
    ")\n",
    "\n",
    "df_final.select(\"id\", \"lof_score\").show(10, truncate=False)"
   ],
   "id": "eec61e60c185b6ff",
   "outputs": [
    {
     "name": "stdout",
     "output_type": "stream",
     "text": [
      "+---+------------------+\n",
      "|id |lof_score         |\n",
      "+---+------------------+\n",
      "|163|3.289920122765579 |\n",
      "|174|2.3820864245797124|\n",
      "|162|2.2630495700614532|\n",
      "|145|2.235402539370376 |\n",
      "|166|2.225221638935357 |\n",
      "|180|2.220295411418472 |\n",
      "|184|2.212903409397164 |\n",
      "|164|2.19392878269361  |\n",
      "|189|2.1928834294436137|\n",
      "|190|2.191308231801513 |\n",
      "+---+------------------+\n",
      "only showing top 10 rows\n"
     ]
    }
   ],
   "execution_count": 14
  },
  {
   "metadata": {},
   "cell_type": "markdown",
   "source": "#### Compute ROC‐AUC From df_final",
   "id": "59cb984646363627"
  },
  {
   "metadata": {
    "ExecuteTime": {
     "end_time": "2025-07-12T19:17:21.278155Z",
     "start_time": "2025-07-12T19:17:19.818319Z"
    }
   },
   "cell_type": "code",
   "source": [
    "\n",
    "# Identify the minority class\n",
    "minority_class = df.groupBy(\"class\").count().orderBy(\"count\").first()[\"class\"]\n",
    "print(f\"Minority class (outlier) = {minority_class}\")\n",
    "\n",
    "#Bring the original class labels\n",
    "labels_df = df.select(\"id\", \"class\")\n",
    "#Join labels onto df_final\n",
    "df_eval = df_final.join(labels_df, on=\"id\", how=\"inner\")\n",
    "eval_pdf = df_eval.select(\"id\", \"lof_score\", \"class\").toPandas()\n",
    "#Build binary target and compute AUC\n",
    "eval_pdf[\"binary_label\"] = (eval_pdf[\"class\"] == minority_class).astype(int)\n",
    "auc = roc_auc_score(eval_pdf[\"binary_label\"], eval_pdf[\"lof_score\"])\n",
    "print(f\"✅ Final ROC‐AUC (class {minority_class} vs rest): {auc:.4f}\")\n"
   ],
   "id": "34f04fa25a64388a",
   "outputs": [
    {
     "name": "stderr",
     "output_type": "stream",
     "text": [
      "                                                                                \r"
     ]
    },
    {
     "name": "stdout",
     "output_type": "stream",
     "text": [
      "Minority class (outlier) = 6\n",
      "✅ Final ROC‐AUC (class 6 vs rest): 0.8041\n"
     ]
    }
   ],
   "execution_count": 15
  },
  {
   "metadata": {},
   "cell_type": "markdown",
   "source": "#### Evaluate “Pure” LOF and Compare ROC Curves",
   "id": "f0f5857ccdadc365"
  },
  {
   "metadata": {
    "ExecuteTime": {
     "end_time": "2025-07-12T19:17:32.744696Z",
     "start_time": "2025-07-12T19:17:31.665736Z"
    }
   },
   "cell_type": "code",
   "source": [
    "feature_cols = [c for c in df.columns if c not in (\"id\", \"class\")]\n",
    "vec = VectorAssembler(inputCols=feature_cols, outputCol=\"vec\")\n",
    "df_vec = vec.transform(df)\n",
    "scaler = MinMaxScaler(inputCol=\"vec\", outputCol=\"scaled\")\n",
    "df_scaled = scaler.fit(df_vec).transform(df_vec)\n",
    "\n",
    "pdf_pure = df_scaled.select(\"id\", \"scaled\", \"class\").toPandas()\n",
    "X_pure = np.vstack(pdf_pure[\"scaled\"].values)\n",
    "y_pure = (pdf_pure[\"class\"] == minority_class).astype(int).values\n",
    "\n",
    "# Pure LOF\n",
    "lof_pure = LocalOutlierFactor(n_neighbors=212, novelty=True)\n",
    "lof_pure.fit(X_pure)\n",
    "pdf_pure[\"lof_score_pure\"] = -lof_pure.decision_function(X_pure)\n",
    "auc_pure = roc_auc_score(y_pure, pdf_pure[\"lof_score_pure\"])\n",
    "print(f\"Pure LOF AUC: {auc_pure:.4f}\")\n",
    "\n",
    "#ROC curves – mRMRD vs Pure LOF\n",
    "\n",
    "from sklearn.metrics import roc_curve\n",
    "import matplotlib.pyplot as plt\n",
    "\n",
    "\n",
    "fpr_m, tpr_m, _ = roc_curve(eval_pdf[\"binary_label\"], eval_pdf[\"lof_score\"])\n",
    "fpr_p, tpr_p, _ = roc_curve(y_pure, pdf_pure[\"lof_score_pure\"])\n",
    "\n",
    "plt.figure(dpi=110, figsize=(6,5))\n",
    "plt.plot(fpr_m, tpr_m, label=f\"mRMRD‑LOF (AUC={auc:.2f})\", linewidth=2)\n",
    "plt.plot(fpr_p, tpr_p, \"--\", label=f\"Pure LOF (AUC={auc_pure:.2f})\", linewidth=2)\n",
    "plt.plot([0, 1], [0, 1], \":\", label=\"Chance level\")\n",
    "plt.xlim(0, 1); plt.ylim(0, 1.05)\n",
    "plt.xlabel(\"False Positive Rate\")\n",
    "plt.ylabel(\"True Positive Rate\")\n",
    "plt.title(\"ROC – Glass dataset\", fontsize=13)\n",
    "plt.grid(alpha=0.3)\n",
    "plt.legend(loc=\"lower right\")\n",
    "plt.tight_layout()\n",
    "plt.show()\n"
   ],
   "id": "70a139660186f97c",
   "outputs": [
    {
     "name": "stdout",
     "output_type": "stream",
     "text": [
      "Pure LOF AUC: 0.7168\n"
     ]
    },
    {
     "data": {
      "text/plain": [
       "<Figure size 660x550 with 1 Axes>"
      ],
      "image/png": "[encoded data removed]"
     },
     "metadata": {},
     "output_type": "display_data"
    }
   ],
   "execution_count": 16
  },
  {
   "metadata": {
    "ExecuteTime": {
     "end_time": "2025-07-12T21:04:57.195260Z",
     "start_time": "2025-07-12T21:04:56.251088Z"
    }
   },
   "cell_type": "code",
   "source": "from pipeline_components import run_pipeline_from_csv,compute_pipeline_auc\n",
   "id": "515d5fb844bf7dd1",
   "outputs": [],
   "execution_count": 1
  },
  {
   "metadata": {},
   "cell_type": "markdown",
   "source": "#### Test Run Time With Fiffernet Number Of Workers",
   "id": "72d26d5749b048f"
  },
  {
   "metadata": {
    "ExecuteTime": {
     "end_time": "2025-07-12T22:38:42.174837Z",
     "start_time": "2025-07-12T22:23:03.184202Z"
    }
   },
   "cell_type": "code",
   "source": [
    "import time\n",
    "import pandas as pd\n",
    "from pyspark.sql import SparkSession\n",
    "from pipeline_components import run_pipeline_from_csv, compute_pipeline_auc\n",
    "\n",
    "worker_counts = [1, 2, 4, 8]\n",
    "timings = []\n",
    "\n",
    "for workers in worker_counts:\n",
    "    try:\n",
    "        spark.stop()\n",
    "    except:\n",
    "        pass\n",
    "\n",
    "    spark = SparkSession.builder \\\n",
    "        .master(f\"local[{workers}]\") \\\n",
    "        .appName(f\"MyPipeline_{workers}workers\") \\\n",
    "        .getOrCreate()\n",
    "\n",
    "    print(f\"Running pipeline with {workers} worker(s)...\")\n",
    "    start_time = time.time()\n",
    "\n",
    "    # run and materialize\n",
    "    lof_df, selected, cleaned_df = run_pipeline_from_csv(\n",
    "        spark,\n",
    "        \"glass_identification.csv\",\n",
    "        p=2, m=3, k=74\n",
    "    )\n",
    "    lof_df.count()\n",
    "\n",
    "    # correctly group by the 'target' column\n",
    "    class_counts = (\n",
    "        cleaned_df\n",
    "        .groupBy(\"target\")\n",
    "        .count()\n",
    "        .orderBy(\"count\")\n",
    "        .collect()\n",
    "    )\n",
    "    minority_class = class_counts[0][\"target\"]\n",
    "\n",
    "    # compute AUC\n",
    "    pipe_auc, pure_auc = compute_pipeline_auc(\n",
    "    spark, \"glass_identification.csv\", minority_class, p=2, m=3, k=74)\n",
    "    print(f\"Pipeline LOF AUC: {pipe_auc:.4f}\")\n",
    "    print(f\"Pure LOF AUC: {pure_auc:.4f}\")\n",
    "\n",
    "    elapsed = time.time() - start_time\n",
    "    timings.append({\"workers\": workers, \"duration_s\": elapsed})\n",
    "    print(f\"→ Completed in {elapsed:.2f}s\\n\")\n",
    "\n",
    "    spark.stop()\n",
    "\n",
    "# summary\n",
    "timing_df = pd.DataFrame(timings)\n",
    "print(\"Pipeline timing by number of workers:\")\n",
    "print(timing_df)\n"
   ],
   "id": "f93822136cda201e",
   "outputs": [
    {
     "name": "stderr",
     "output_type": "stream",
     "text": [
      "WARNING: Using incubator modules: jdk.incubator.vector\n",
      "Using Spark's default log4j profile: org/apache/spark/log4j2-defaults.properties\n",
      "25/07/13 01:53:05 WARN Utils: Your hostname, Soroush, resolves to a loopback address: 127.0.1.1; using 192.168.100.10 instead (on interface wlp5s0)\n",
      "25/07/13 01:53:05 WARN Utils: Set SPARK_LOCAL_IP if you need to bind to another address\n",
      "Using Spark's default log4j profile: org/apache/spark/log4j2-defaults.properties\n",
      "Setting default log level to \"WARN\".\n",
      "To adjust logging level use sc.setLogLevel(newLevel). For SparkR, use setLogLevel(newLevel).\n",
      "25/07/13 01:53:05 WARN NativeCodeLoader: Unable to load native-hadoop library for your platform... using builtin-java classes where applicable\n"
     ]
    },
    {
     "name": "stdout",
     "output_type": "stream",
     "text": [
      "Running pipeline with 1 worker(s)...\n"
     ]
    },
    {
     "name": "stderr",
     "output_type": "stream",
     "text": [
      "25/07/13 01:57:02 WARN CacheManager: Asked to cache already cached data.        \n",
      "25/07/13 01:57:04 WARN CacheManager: Asked to cache already cached data.        \n",
      "                                                                                \r"
     ]
    },
    {
     "name": "stdout",
     "output_type": "stream",
     "text": [
      "Pipeline LOF AUC: 0.8581\n",
      "Pure LOF AUC: 0.7576\n",
      "→ Completed in 468.56s\n",
      "\n",
      "Running pipeline with 2 worker(s)...\n"
     ]
    },
    {
     "name": "stderr",
     "output_type": "stream",
     "text": [
      "25/07/13 02:03:01 WARN CacheManager: Asked to cache already cached data.        \n",
      "25/07/13 02:03:02 WARN CacheManager: Asked to cache already cached data.\n",
      "                                                                                \r"
     ]
    },
    {
     "name": "stdout",
     "output_type": "stream",
     "text": [
      "Pipeline LOF AUC: 0.8581\n",
      "Pure LOF AUC: 0.7576\n",
      "→ Completed in 245.16s\n",
      "\n",
      "Running pipeline with 4 worker(s)...\n"
     ]
    },
    {
     "name": "stderr",
     "output_type": "stream",
     "text": [
      "25/07/13 02:06:09 WARN CacheManager: Asked to cache already cached data.        \n",
      "25/07/13 02:06:10 WARN CacheManager: Asked to cache already cached data.\n",
      "                                                                                \r"
     ]
    },
    {
     "name": "stdout",
     "output_type": "stream",
     "text": [
      "Pipeline LOF AUC: 0.8581\n",
      "Pure LOF AUC: 0.7576\n",
      "→ Completed in 132.41s\n",
      "\n",
      "Running pipeline with 8 worker(s)...\n"
     ]
    },
    {
     "name": "stderr",
     "output_type": "stream",
     "text": [
      "25/07/13 02:07:54 WARN CacheManager: Asked to cache already cached data.        \n",
      "25/07/13 02:07:55 WARN CacheManager: Asked to cache already cached data.\n",
      "                                                                                \r"
     ]
    },
    {
     "name": "stdout",
     "output_type": "stream",
     "text": [
      "Pipeline LOF AUC: 0.8581\n",
      "Pure LOF AUC: 0.7576\n",
      "→ Completed in 76.43s\n",
      "\n",
      "Pipeline timing by number of workers:\n",
      "   workers  duration_s\n",
      "0        1  468.560698\n",
      "1        2  245.159066\n",
      "2        4  132.410195\n",
      "3        8   76.429736\n"
     ]
    }
   ],
   "execution_count": 1
  },
  {
   "metadata": {},
   "cell_type": "markdown",
   "source": "#### Test With Different Number Of Workers",
   "id": "434d36d68db06d35"
  },
  {
   "metadata": {
    "ExecuteTime": {
     "end_time": "2025-07-12T22:08:46.804384Z",
     "start_time": "2025-07-12T22:08:46.801763Z"
    }
   },
   "cell_type": "code",
   "source": "",
   "id": "9238bc3c130b6bb5",
   "outputs": [],
   "execution_count": null
  },
  {
   "metadata": {
    "ExecuteTime": {
     "end_time": "2025-07-11T21:31:57.472369Z",
     "start_time": "2025-07-11T21:31:57.470376Z"
    }
   },
   "cell_type": "code",
   "source": "",
   "id": "edc65bf3fddb7cd8",
   "outputs": [],
   "execution_count": null
  },
  {
   "metadata": {
    "ExecuteTime": {
     "end_time": "2025-07-11T21:31:57.803682Z",
     "start_time": "2025-07-11T21:31:57.801864Z"
    }
   },
   "cell_type": "code",
   "source": "",
   "id": "6952909542ba0758",
   "outputs": [],
   "execution_count": null
  },
  {
   "metadata": {
    "ExecuteTime": {
     "end_time": "2025-07-11T21:31:58.277792Z",
     "start_time": "2025-07-11T21:31:58.274438Z"
    }
   },
   "cell_type": "code",
   "source": "",
   "id": "4225f22040e49aef",
   "outputs": [
    {
     "name": "stdout",
     "output_type": "stream",
     "text": [
      "Spark version: 4.0.0\n"
     ]
    }
   ],
   "execution_count": 4
  },
  {
   "metadata": {
    "ExecuteTime": {
     "end_time": "2025-07-11T21:32:00.671540Z",
     "start_time": "2025-07-11T21:32:00.669638Z"
    }
   },
   "cell_type": "code",
   "source": "",
   "id": "6c2f3b79f01b753e",
   "outputs": [],
   "execution_count": null
  },
  {
   "metadata": {
    "ExecuteTime": {
     "end_time": "2025-07-11T21:32:02.371738Z",
     "start_time": "2025-07-11T21:32:02.369988Z"
    }
   },
   "cell_type": "code",
   "source": "",
   "id": "f209015985be060",
   "outputs": [],
   "execution_count": null
  },
  {
   "metadata": {},
   "cell_type": "markdown",
   "source": "",
   "id": "3ed94eedb4fe0e94"
  },
  {
   "metadata": {
    "ExecuteTime": {
     "end_time": "2025-07-11T20:54:52.373422Z",
     "start_time": "2025-07-11T20:54:52.364116Z"
    }
   },
   "cell_type": "code",
   "source": "",
   "id": "758e982d2049e726",
   "outputs": [
    {
     "name": "stdout",
     "output_type": "stream",
     "text": [
      "AUC (high score ⇒ anomaly): 0.4080\n",
      "AUC (low  score ⇒ anomaly): 0.5920\n"
     ]
    }
   ],
   "execution_count": 29
  },
  {
   "metadata": {
    "ExecuteTime": {
     "end_time": "2025-07-11T21:29:17.668185Z",
     "start_time": "2025-07-11T21:29:17.666563Z"
    }
   },
   "cell_type": "code",
   "source": "",
   "id": "870304a38e3bb428",
   "outputs": [],
   "execution_count": null
  },
  {
   "metadata": {},
   "cell_type": "code",
   "outputs": [],
   "execution_count": null,
   "source": "",
   "id": "bc221c97cfdfe2a6"
  }
 ],
 "metadata": {
  "kernelspec": {
   "display_name": "Python 3",
   "language": "python",
   "name": "python3"
  },
  "language_info": {
   "codemirror_mode": {
    "name": "ipython",
    "version": 2
   },
   "file_extension": ".py",
   "mimetype": "text/x-python",
   "name": "python",
   "nbconvert_exporter": "python",
   "pygments_lexer": "ipython2",
   "version": "2.7.6"
  }
 },
 "nbformat": 4,
 "nbformat_minor": 5
}
